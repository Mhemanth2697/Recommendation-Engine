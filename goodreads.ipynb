{
 "cells": [
  {
   "cell_type": "code",
   "execution_count": null,
   "metadata": {
    "_cell_guid": "b1076dfc-b9ad-4769-8c92-a6c4dae69d19",
    "_uuid": "8f2839f25d086af736a60e9eeb907d3b93b6e0e5"
   },
   "outputs": [],
   "source": [
    "# This Python 3 environment comes with many helpful analytics libraries installed\n",
    "# It is defined by the kaggle/python Docker image: https://github.com/kaggle/docker-python\n",
    "# For example, here's several helpful packages to load\n",
    "\n",
    "import numpy as np # linear algebra\n",
    "import pandas as pd # data processing, CSV file I/O (e.g. pd.read_csv)\n",
    "\n",
    "# Input data files are available in the read-only \"../input/\" directory\n",
    "# For example, running this (by clicking run or pressing Shift+Enter) will list all files under the input directory\n",
    "\n",
    "import os\n",
    "for dirname, _, filenames in os.walk('/kaggle/input'):\n",
    "    for filename in filenames:\n",
    "        print(os.path.join(dirname, filename))\n",
    "\n",
    "# You can write up to 5GB to the current directory (/kaggle/working/) that gets preserved as output when you create a version using \"Save & Run All\" \n",
    "# You can also write temporary files to /kaggle/temp/, but they won't be saved outside of the current session"
   ]
  },
  {
   "cell_type": "code",
   "execution_count": null,
   "metadata": {
    "_cell_guid": "79c7e3d0-c299-4dcb-8224-4455121ee9b0",
    "_uuid": "d629ff2d2480ee46fbb7e2d37f6b5fab8052498a"
   },
   "outputs": [],
   "source": [
    "dataFrame = pd.DataFrame(columns = ['Name', 'Authors', 'Rating' ,'pagesNumber', 'Description', 'ISBN'])\n",
    "path = \"/kaggle/input/goodreads-book-datasets-10m/\"\n",
    "for file in os.listdir(path):\n",
    "    if file.startswith('user_'):\n",
    "        continue\n",
    "    tempFrame = pd.read_csv(path+file)\n",
    "    try:\n",
    "        tempFrame = tempFrame[['Name', 'Authors', 'Rating', 'pagesNumber', 'Description', 'ISBN']]\n",
    "    except Exception as e:\n",
    "        if 'Description' not in tempFrame.columns:\n",
    "            tempFrame = tempFrame[['Name', 'Authors', 'Rating','pagesNumber', 'ISBN']]\n",
    "        elif 'pagesNumber' not in tempFrame.columns:\n",
    "            tempFrame = tempFrame[['Name', 'Authors', 'Rating' , 'Description', 'ISBN']]\n",
    "    dataFrame = pd.concat([dataFrame, tempFrame])    "
   ]
  },
  {
   "cell_type": "code",
   "execution_count": null,
   "metadata": {},
   "outputs": [],
   "source": [
    "dataFrame.to_csv('Books.csv')"
   ]
  },
  {
   "cell_type": "code",
   "execution_count": null,
   "metadata": {},
   "outputs": [],
   "source": [
    "userFrame = pd.DataFrame(columns = ['ID', 'Name', 'Rating'])\n",
    "path = \"/kaggle/input/goodreads-book-datasets-10m/\"\n",
    "for file in os.listdir(path):\n",
    "    if file.startswith('book'):\n",
    "        continue\n",
    "    tempFrame = pd.read_csv(path+file)\n",
    "    userFrame = pd.concat([userFrame, tempFrame])"
   ]
  },
  {
   "cell_type": "code",
   "execution_count": null,
   "metadata": {},
   "outputs": [],
   "source": [
    "userFrame = userFrame.drop(userFrame[userFrame.Name == 'Rating'].index, axis = 0)"
   ]
  },
  {
   "cell_type": "code",
   "execution_count": null,
   "metadata": {},
   "outputs": [],
   "source": [
    "userFrame.to_csv('Books.csv')"
   ]
  },
  {
   "cell_type": "code",
   "execution_count": null,
   "metadata": {},
   "outputs": [],
   "source": [
    "merged.to_csv('Merged.csv')"
   ]
  },
  {
   "cell_type": "code",
   "execution_count": null,
   "metadata": {},
   "outputs": [],
   "source": [
    "c_maxes = dataFrame.groupby(['Name']).pagesNumber.transform(max)\n",
    "dataFrame = dataFrame.loc[dataFrame.pagesNumber == c_maxes]"
   ]
  },
  {
   "cell_type": "code",
   "execution_count": null,
   "metadata": {},
   "outputs": [],
   "source": [
    "merged = pd.merge(userFrame, dataFrame, on = 'Name')"
   ]
  },
  {
   "cell_type": "code",
   "execution_count": null,
   "metadata": {},
   "outputs": [],
   "source": [
    "merged.rename(columns={'Rating_x': 'userRating', 'Rating_y': 'averageRating'}, inplace=True)\n",
    "merged = merged[['ID', 'Name', 'Authors', 'pagesNumber', 'averageRating', 'userRating']]"
   ]
  },
  {
   "cell_type": "code",
   "execution_count": null,
   "metadata": {},
   "outputs": [],
   "source": [
    "merged.loc[merged.userRating == 'it was amazing', ['userRating']] = 5\n",
    "merged.loc[merged.userRating == 'really liked it', ['userRating']] = 4\n",
    "merged.loc[merged.userRating == 'liked it', ['userRating']] = 3\n",
    "merged.loc[merged.userRating == 'it was ok', ['userRating']] = 2\n",
    "merged.loc[merged.userRating == 'did not like it', ['userRating']] = 1"
   ]
  }
 ],
 "metadata": {
  "kernelspec": {
   "display_name": "Python 3",
   "language": "python",
   "name": "python3"
  },
  "language_info": {
   "codemirror_mode": {
    "name": "ipython",
    "version": 3
   },
   "file_extension": ".py",
   "mimetype": "text/x-python",
   "name": "python",
   "nbconvert_exporter": "python",
   "pygments_lexer": "ipython3",
   "version": "3.7.7"
  }
 },
 "nbformat": 4,
 "nbformat_minor": 4
}
